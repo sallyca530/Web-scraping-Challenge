{
 "cells": [
  {
   "cell_type": "markdown",
   "metadata": {},
   "source": [
    "# Module 11 Challenge\n",
    "## Deliverable 1: Scrape Titles and Preview Text from Mars News"
   ]
  },
  {
   "cell_type": "code",
   "execution_count": 30,
   "metadata": {},
   "outputs": [],
   "source": [
    "# Import Splinter and BeautifulSoup\n",
    "from splinter import Browser\n",
    "from bs4 import BeautifulSoup as soup\n",
    "from selenium.webdriver.chrome.service import Service\n",
    "from webdriver_manager.chrome import ChromeDriverManager"
   ]
  },
  {
   "cell_type": "code",
   "execution_count": 31,
   "metadata": {
    "scrolled": true
   },
   "outputs": [],
   "source": [
    "browser = Browser('chrome')"
   ]
  },
  {
   "cell_type": "markdown",
   "metadata": {},
   "source": [
    "### Step 1: Visit the Website - Use automated browsing to visit the [Mars news site](https://static.bc-edx.com/data/web/mars_news/index.html). Inspect the page to identify which elements to scrape."
   ]
  },
  {
   "cell_type": "code",
   "execution_count": 32,
   "metadata": {},
   "outputs": [],
   "source": [
    "# Visit the Mars news site\n",
    "url = 'https://static.bc-edx.com/data/web/mars_news/index.html'\n",
    "browser.visit(url)"
   ]
  },
  {
   "cell_type": "markdown",
   "metadata": {},
   "source": [
    "### Step 2: Scrape the Website\n",
    "\n",
    "Create a Beautiful Soup object and use it to extract text elements from the website."
   ]
  },
  {
   "cell_type": "code",
   "execution_count": 33,
   "metadata": {},
   "outputs": [],
   "source": [
    "# Gather the html from the current page in the browser\n",
    "html = browser.html"
   ]
  },
  {
   "cell_type": "code",
   "execution_count": 34,
   "metadata": {},
   "outputs": [],
   "source": [
    "# Create a Beautiful Soup object\n",
    "soup = soup(html, 'html.parser')"
   ]
  },
  {
   "cell_type": "code",
   "execution_count": 35,
   "metadata": {},
   "outputs": [
    {
     "data": {
      "text/plain": [
       "[\"NASA's MAVEN Observes Martian Light Show Caused by Major Solar Storm\",\n",
       " \"NASA Prepares to Say 'Farewell' to InSight Spacecraft\",\n",
       " 'NASA and ESA Agree on Next Steps to Return Mars Samples to Earth',\n",
       " \"NASA's InSight Lander Detects Stunning Meteoroid Impact on Mars\",\n",
       " 'NASA To Host Briefing on InSight, Mars Reconnaissance Orbiter Findings',\n",
       " 'Why NASA Is Trying To Crash Land on Mars',\n",
       " 'Curiosity Mars Rover Reaches Long-Awaited Salty Region',\n",
       " 'Mars Mission Shields Up for Tests',\n",
       " \"NASA's InSight Waits Out Dust Storm\",\n",
       " \"NASA's InSight 'Hears' Its First Meteoroid Impacts on Mars\",\n",
       " \"NASA's Perseverance Rover Investigates Geologically Rich Mars Terrain\",\n",
       " 'NASA to Host Briefing on Perseverance Mars Rover Mission Operations',\n",
       " \"NASA's Perseverance Makes New Discoveries in Mars' Jezero Crater\",\n",
       " \"10 Years Since Landing, NASA's Curiosity Mars Rover Still Has Drive\",\n",
       " \"SAM's Top 5 Discoveries Aboard NASA's Curiosity Rover at Mars\"]"
      ]
     },
     "execution_count": 35,
     "metadata": {},
     "output_type": "execute_result"
    }
   ],
   "source": [
    "# Extract all the text elements\n",
    "title = soup.find_all('div', class_ = \"content_title\")\n",
    "titles = [t.text for t in title]\n",
    "titles\n"
   ]
  },
  {
   "cell_type": "code",
   "execution_count": 36,
   "metadata": {},
   "outputs": [
    {
     "data": {
      "text/plain": [
       "['For the first time in its eight years orbiting Mars, NASA’s MAVEN mission witnessed two different types of ultraviolet aurorae simultaneously, the result of solar storms that began on Aug. 27.',\n",
       " 'A closer look at what goes into wrapping up the mission as the spacecraft’s power supply continues to dwindle.',\n",
       " 'The agency’s Perseverance rover will establish the first sample depot on Mars.',\n",
       " 'The agency’s lander felt the ground shake during the impact while cameras aboard the Mars Reconnaissance Orbiter spotted the yawning new crater from space.',\n",
       " 'Scientists from two Mars missions will discuss how they combined images and data for a major finding on the Red Planet.',\n",
       " 'Like a car’s crumple zone, the experimental SHIELD lander is designed to absorb a hard impact.',\n",
       " 'After years of climbing, the Mars rover has arrived at a special region believed to have formed as Mars’ climate was drying.',\n",
       " 'Protecting Mars Sample Return spacecraft from micrometeorites requires high-caliber work.',\n",
       " 'InSight’s team is taking steps to help the solar-powered lander continue operating for as long as possible.',\n",
       " 'The Mars lander’s seismometer has picked up vibrations from four separate impacts in the past two years.',\n",
       " 'The latest findings provide greater detail on a region of the Red Planet that has a watery past and is yielding promising samples for the NASA-ESA Mars Sample Return campaign.',\n",
       " 'Members of the mission will discuss the rover’s activities as it gathers samples in an ancient river delta.',\n",
       " 'The rover found that Jezero Crater’s floor is made up of volcanic rocks that have interacted with water.',\n",
       " 'Despite signs of wear, the intrepid spacecraft is about to start an exciting new chapter of its mission as it climbs a Martian mountain.',\n",
       " '“Selfie” of the Curiosity rover with inset showing the SAM instrument prior to installation on the rover.']"
      ]
     },
     "execution_count": 36,
     "metadata": {},
     "output_type": "execute_result"
    }
   ],
   "source": [
    "preview = soup.find_all('div', class_ = \"article_teaser_body\")\n",
    "previews = [p.text for p in preview]\n",
    "previews"
   ]
  },
  {
   "cell_type": "markdown",
   "metadata": {},
   "source": [
    "### Step 3: Store the Results - Extract the titles and preview text of the news articles that you scraped. Store the scraping results in a Python data structure."
   ]
  },
  {
   "cell_type": "code",
   "execution_count": 37,
   "metadata": {},
   "outputs": [],
   "source": [
    "# Create an empty list to store the dictionaries\n",
    "t_p_list = []"
   ]
  },
  {
   "cell_type": "code",
   "execution_count": 38,
   "metadata": {},
   "outputs": [],
   "source": [
    "articles_tp = soup.find_all('div', class_ = \"list_text\")\n",
    "# articles_tp"
   ]
  },
  {
   "cell_type": "code",
   "execution_count": 39,
   "metadata": {},
   "outputs": [],
   "source": [
    "# Loop through the text elements\n",
    "for x in articles_tp:\n",
    "    # Extract the title and preview text from the elements\n",
    "    l = x.find('div',  class_ = \"list_date\").text\n",
    "    t = x.find('div', class_ = \"content_title\").text\n",
    "    p = x.find('div', class_ = \"article_teaser_body\").text\n",
    "    \n",
    "    # Store each title and preview pair in a dictionary\n",
    "    tp = {\"list date\" : l, \"title\" : t, \"preview\" : p}\n",
    "    # Add the dictionary to the list\n",
    "    t_p_list.append(tp)"
   ]
  },
  {
   "cell_type": "code",
   "execution_count": 40,
   "metadata": {},
   "outputs": [
    {
     "data": {
      "text/plain": [
       "[{'list date': 'November 9, 2022',\n",
       "  'title': \"NASA's MAVEN Observes Martian Light Show Caused by Major Solar Storm\",\n",
       "  'preview': 'For the first time in its eight years orbiting Mars, NASA’s MAVEN mission witnessed two different types of ultraviolet aurorae simultaneously, the result of solar storms that began on Aug. 27.'},\n",
       " {'list date': 'November 1, 2022',\n",
       "  'title': \"NASA Prepares to Say 'Farewell' to InSight Spacecraft\",\n",
       "  'preview': 'A closer look at what goes into wrapping up the mission as the spacecraft’s power supply continues to dwindle.'},\n",
       " {'list date': 'October 28, 2022',\n",
       "  'title': 'NASA and ESA Agree on Next Steps to Return Mars Samples to Earth',\n",
       "  'preview': 'The agency’s Perseverance rover will establish the first sample depot on Mars.'},\n",
       " {'list date': 'October 27, 2022',\n",
       "  'title': \"NASA's InSight Lander Detects Stunning Meteoroid Impact on Mars\",\n",
       "  'preview': 'The agency’s lander felt the ground shake during the impact while cameras aboard the Mars Reconnaissance Orbiter spotted the yawning new crater from space.'},\n",
       " {'list date': 'October 21, 2022',\n",
       "  'title': 'NASA To Host Briefing on InSight, Mars Reconnaissance Orbiter Findings',\n",
       "  'preview': 'Scientists from two Mars missions will discuss how they combined images and data for a major finding on the Red Planet.'},\n",
       " {'list date': 'October 20, 2022',\n",
       "  'title': 'Why NASA Is Trying To Crash Land on Mars',\n",
       "  'preview': 'Like a car’s crumple zone, the experimental SHIELD lander is designed to absorb a hard impact.'},\n",
       " {'list date': 'October 19, 2022',\n",
       "  'title': 'Curiosity Mars Rover Reaches Long-Awaited Salty Region',\n",
       "  'preview': 'After years of climbing, the Mars rover has arrived at a special region believed to have formed as Mars’ climate was drying.'},\n",
       " {'list date': 'October 12, 2022',\n",
       "  'title': 'Mars Mission Shields Up for Tests',\n",
       "  'preview': 'Protecting Mars Sample Return spacecraft from micrometeorites requires high-caliber work.'},\n",
       " {'list date': 'October 7, 2022',\n",
       "  'title': \"NASA's InSight Waits Out Dust Storm\",\n",
       "  'preview': 'InSight’s team is taking steps to help the solar-powered lander continue operating for as long as possible.'},\n",
       " {'list date': 'September 19, 2022',\n",
       "  'title': \"NASA's InSight 'Hears' Its First Meteoroid Impacts on Mars\",\n",
       "  'preview': 'The Mars lander’s seismometer has picked up vibrations from four separate impacts in the past two years.'},\n",
       " {'list date': 'September 15, 2022',\n",
       "  'title': \"NASA's Perseverance Rover Investigates Geologically Rich Mars Terrain\",\n",
       "  'preview': 'The latest findings provide greater detail on a region of the Red Planet that has a watery past and is yielding promising samples for the NASA-ESA Mars Sample Return campaign.'},\n",
       " {'list date': 'September 12, 2022',\n",
       "  'title': 'NASA to Host Briefing on Perseverance Mars Rover Mission Operations',\n",
       "  'preview': 'Members of the mission will discuss the rover’s activities as it gathers samples in an ancient river delta.'},\n",
       " {'list date': 'August 25, 2022',\n",
       "  'title': \"NASA's Perseverance Makes New Discoveries in Mars' Jezero Crater\",\n",
       "  'preview': 'The rover found that Jezero Crater’s floor is made up of volcanic rocks that have interacted with water.'},\n",
       " {'list date': 'August 5, 2022',\n",
       "  'title': \"10 Years Since Landing, NASA's Curiosity Mars Rover Still Has Drive\",\n",
       "  'preview': 'Despite signs of wear, the intrepid spacecraft is about to start an exciting new chapter of its mission as it climbs a Martian mountain.'},\n",
       " {'list date': 'August 4, 2022',\n",
       "  'title': \"SAM's Top 5 Discoveries Aboard NASA's Curiosity Rover at Mars\",\n",
       "  'preview': '“Selfie” of the Curiosity rover with inset showing the SAM instrument prior to installation on the rover.'}]"
      ]
     },
     "execution_count": 40,
     "metadata": {},
     "output_type": "execute_result"
    }
   ],
   "source": [
    "# Print the list to confirm success\n",
    "t_p_list"
   ]
  },
  {
   "cell_type": "code",
   "execution_count": 41,
   "metadata": {},
   "outputs": [],
   "source": [
    "browser.quit()"
   ]
  },
  {
   "cell_type": "code",
   "execution_count": null,
   "metadata": {},
   "outputs": [],
   "source": []
  }
 ],
 "metadata": {
  "kernelspec": {
   "display_name": "Python 3 (ipykernel)",
   "language": "python",
   "name": "python3"
  },
  "language_info": {
   "codemirror_mode": {
    "name": "ipython",
    "version": 3
   },
   "file_extension": ".py",
   "mimetype": "text/x-python",
   "name": "python",
   "nbconvert_exporter": "python",
   "pygments_lexer": "ipython3",
   "version": "3.11.5"
  },
  "vscode": {
   "interpreter": {
    "hash": "31f2aee4e71d21fbe5cf8b01ff0e069b9275f58929596ceb00d14d90e3e16cd6"
   }
  }
 },
 "nbformat": 4,
 "nbformat_minor": 4
}
